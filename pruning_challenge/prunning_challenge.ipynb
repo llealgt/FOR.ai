{
 "cells": [
  {
   "cell_type": "code",
   "execution_count": 1,
   "metadata": {
    "collapsed": true
   },
   "outputs": [],
   "source": [
    "import tensorflow as tf\n",
    "from tensorflow import keras\n",
    "import numpy as np"
   ]
  },
  {
   "cell_type": "code",
   "execution_count": 2,
   "metadata": {},
   "outputs": [],
   "source": [
    "fashion_mnist = keras.datasets.mnist\n",
    "\n",
    "(train_images, train_labels), (test_images, test_labels) = fashion_mnist.load_data()\n",
    "train_shape = train_images.shape\n",
    "test_shape = test_images.shape\n",
    "\n",
    "y_shape = len(set(train_labels))\n",
    "\n",
    "train_images_reshaped = train_images.reshape(train_shape[0],train_shape[1]*train_shape[2])/255.0\n",
    "test_images_reshaped = test_images.reshape(test_shape[0],train_images_reshaped.shape[1])/255.0"
   ]
  },
  {
   "cell_type": "code",
   "execution_count": 3,
   "metadata": {
    "collapsed": true
   },
   "outputs": [],
   "source": [
    "hidden_sizes = [1000,1000,500,200]"
   ]
  },
  {
   "cell_type": "code",
   "execution_count": 4,
   "metadata": {},
   "outputs": [
    {
     "name": "stdout",
     "output_type": "stream",
     "text": [
      "1 (784, 1000)\n",
      "2 (1000, 1000)\n",
      "3 (1000, 500)\n",
      "4 (500, 200)\n",
      "5 (200, 10)\n"
     ]
    }
   ],
   "source": [
    "tf.reset_default_graph()\n",
    "\n",
    "with tf.device(\"/GPU:0\"):\n",
    "    x_placeholder = tf.placeholder(tf.float32,shape = (None,train_shape[1]*train_shape[2]))\n",
    "    y_placeholder = tf.placeholder(tf.int64,shape=(None))\n",
    "    output_layer_weights =  tf.Variable( tf.truncated_normal([hidden_sizes[-1],y_shape]))\n",
    "\n",
    "\n",
    "    weights_matrices = []\n",
    "    layer_outputs = []\n",
    "\n",
    "    layer_outputs.append(x_placeholder)\n",
    "\n",
    "    for layer in range(len(hidden_sizes)):\n",
    "        if layer == 0:\n",
    "\n",
    "            prev_units = int(x_placeholder.shape[1]) \n",
    "        else:\n",
    "            prev_units = int(weights_matrices[layer-1].shape[1])\n",
    "\n",
    "        layer_units = hidden_sizes[layer]\n",
    "\n",
    "        print(layer+1, (prev_units,layer_units))\n",
    "        weights_matrix_l = tf.Variable( tf.truncated_normal ([prev_units,layer_units]))\n",
    "        layer_output =  tf.nn.relu( tf.matmul(layer_outputs[layer],weights_matrix_l))\n",
    "\n",
    "        weights_matrices.append(weights_matrix_l)\n",
    "        layer_outputs.append(layer_output)\n",
    "\n",
    "    last_layer_output =    tf.matmul(  layer_output , output_layer_weights)\n",
    "\n",
    "    print(layer+2,  (hidden_sizes[-1],y_shape))\n",
    "\n",
    "    loss =  tf.reduce_mean(\n",
    "        tf.nn.sparse_softmax_cross_entropy_with_logits(labels = y_placeholder,logits = last_layer_output))\n",
    "    optimizer_step = tf.train.AdamOptimizer(0.01).minimize(loss)\n",
    "\n",
    "    last_layer_hard_output = tf.argmax(last_layer_output,axis=1)\n",
    "    accuracy = tf.reduce_mean( tf.cast( tf.equal(last_layer_hard_output,y_placeholder),tf.float32))\n",
    "\n",
    "\n",
    "    init = tf.global_variables_initializer()"
   ]
  },
  {
   "cell_type": "code",
   "execution_count": 5,
   "metadata": {
    "collapsed": true
   },
   "outputs": [],
   "source": [
    "EPOCHS = 100\n",
    "PRINT_EVERY = 10"
   ]
  },
  {
   "cell_type": "code",
   "execution_count": 13,
   "metadata": {},
   "outputs": [
    {
     "name": "stdout",
     "output_type": "stream",
     "text": [
      "Epoch :10 loss:63435.0078125  epoch acc:0.6527166962623596\n",
      "Epoch :20 loss:19291.916015625  epoch acc:0.803433358669281\n",
      "Epoch :30 loss:9944.955078125  epoch acc:0.8721333146095276\n",
      "Epoch :40 loss:5794.23876953125  epoch acc:0.9075999855995178\n",
      "Epoch :50 loss:3983.037841796875  epoch acc:0.921833336353302\n",
      "Epoch :60 loss:2991.695556640625  epoch acc:0.9301999807357788\n",
      "Epoch :70 loss:2316.428466796875  epoch acc:0.9383166432380676\n",
      "Epoch :80 loss:1823.1290283203125  epoch acc:0.9466500282287598\n",
      "Epoch :90 loss:1445.6376953125  epoch acc:0.9542666673660278\n",
      "Epoch :100 loss:1146.9637451171875  epoch acc:0.9608666896820068\n"
     ]
    }
   ],
   "source": [
    "config = tf.ConfigProto(allow_soft_placement = True)\n",
    "sess = tf.InteractiveSession(config=config)\n",
    "\n",
    "sess.run(init)\n",
    "feed_dict = {x_placeholder:train_images_reshaped,y_placeholder:train_labels}\n",
    "\n",
    "for epoch in range(1,EPOCHS + 1):\n",
    "    _,epoch_loss,epoch_output,epoch_hard_output,epoch_acc  = sess.run([optimizer_step,loss,last_layer_output,last_layer_hard_output,accuracy],feed_dict)\n",
    "    \n",
    "    if epoch % PRINT_EVERY == 0:\n",
    "        print(\"Epoch :{} loss:{}  epoch acc:{}\".format(epoch,epoch_loss,epoch_acc))\n",
    "        \n",
    "\n",
    "trained_weights =  sess.run([layer  for layer in  weights_matrices],feed_dict=feed_dict)\n"
   ]
  },
  {
   "cell_type": "code",
   "execution_count": 12,
   "metadata": {},
   "outputs": [
    {
     "name": "stdout",
     "output_type": "stream",
     "text": [
      "Test acc 0.9309\n"
     ]
    }
   ],
   "source": [
    "test_feed_dict = {x_placeholder:test_images_reshaped,y_placeholder:test_labels}\n",
    "test_acc = sess.run(accuracy,feed_dict=test_feed_dict)\n",
    "\n",
    "print(\"Test acc\",test_acc)\n"
   ]
  },
  {
   "cell_type": "code",
   "execution_count": 15,
   "metadata": {},
   "outputs": [
    {
     "data": {
      "text/plain": [
       "[array([[-4.03605662e-02, -1.01700410e-01, -3.49279009e-02, ...,\n",
       "          1.72350514e+00,  9.12831247e-01,  1.31312096e+00],\n",
       "        [-9.88243461e-01,  8.41427505e-01,  1.11209893e+00, ...,\n",
       "          8.79794359e-01,  2.60582268e-02, -1.85387456e+00],\n",
       "        [ 9.35282648e-01,  5.62196612e-01,  2.00398508e-02, ...,\n",
       "         -7.16317445e-02, -1.85424149e-01,  1.15086126e+00],\n",
       "        ...,\n",
       "        [ 1.62240887e+00, -2.48845220e-01,  1.47115008e-03, ...,\n",
       "          3.02017450e-01,  1.76415648e-02,  3.59472036e-01],\n",
       "        [-8.64456177e-01,  1.99837232e+00, -1.55694389e+00, ...,\n",
       "         -1.31466925e+00,  3.73141915e-01, -1.20031215e-01],\n",
       "        [-1.84592068e-01, -6.74613476e-01,  2.33404532e-01, ...,\n",
       "         -5.63059114e-02, -1.06725788e+00, -1.29767644e+00]], dtype=float32),\n",
       " array([[-0.74925524,  0.38654003,  1.8252498 , ...,  0.40536758,\n",
       "         -0.71222305,  1.5640484 ],\n",
       "        [-0.50121474,  1.141338  , -0.47750545, ...,  0.54105234,\n",
       "          1.0982342 , -0.8031056 ],\n",
       "        [ 0.7338094 , -0.20702194,  0.12426876, ..., -0.7433158 ,\n",
       "          1.1858026 , -0.8702092 ],\n",
       "        ...,\n",
       "        [ 0.8805826 ,  0.90650874,  0.6049749 , ..., -1.6448323 ,\n",
       "          0.39201307,  1.6690989 ],\n",
       "        [-0.66128397,  0.44721344,  0.14531918, ...,  0.26901948,\n",
       "          0.30597773,  0.4380939 ],\n",
       "        [-1.242357  ,  0.08206124,  0.51782477, ..., -0.31082138,\n",
       "         -0.69904   , -1.1184794 ]], dtype=float32),\n",
       " array([[-0.44226414,  0.05149313, -0.5085167 , ...,  0.01573496,\n",
       "          1.006987  , -0.42054465],\n",
       "        [-1.406302  , -0.6502991 ,  1.4509342 , ..., -0.3553556 ,\n",
       "         -0.6461318 ,  0.8678714 ],\n",
       "        [-0.44045216,  0.0219042 , -0.33615756, ..., -0.60618323,\n",
       "         -1.9765882 , -0.8085706 ],\n",
       "        ...,\n",
       "        [-1.2772164 , -1.0979164 ,  0.24652034, ...,  0.46830985,\n",
       "         -0.8763804 , -1.7858477 ],\n",
       "        [ 0.26503226, -1.6488414 ,  0.8215074 , ...,  0.2773752 ,\n",
       "          0.23672502, -0.204527  ],\n",
       "        [-0.10839176,  0.07631223, -1.5389153 , ..., -1.3724593 ,\n",
       "          0.7839688 , -1.3500702 ]], dtype=float32),\n",
       " array([[-0.32280302, -0.15916328,  0.32759368, ...,  1.6349086 ,\n",
       "          0.35488927, -0.42388272],\n",
       "        [-1.5227451 , -0.6651136 , -0.24371257, ...,  0.17824046,\n",
       "          0.20726134,  0.28765434],\n",
       "        [-0.92930394, -1.1385728 , -0.8683192 , ...,  0.88612235,\n",
       "          0.25800407,  0.35761878],\n",
       "        ...,\n",
       "        [-1.1247895 ,  0.08808296,  0.38172066, ..., -0.92503077,\n",
       "          1.4753367 , -1.3153038 ],\n",
       "        [-0.10022891,  0.9814788 ,  0.18225068, ..., -0.6530435 ,\n",
       "          0.23406269,  1.6657628 ],\n",
       "        [-0.9262039 , -1.1501038 ,  0.3873732 , ...,  0.8992072 ,\n",
       "         -0.25971073,  0.20717154]], dtype=float32)]"
      ]
     },
     "execution_count": 15,
     "metadata": {},
     "output_type": "execute_result"
    }
   ],
   "source": [
    "trained_weights\n"
   ]
  },
  {
   "cell_type": "code",
   "execution_count": null,
   "metadata": {
    "collapsed": true
   },
   "outputs": [],
   "source": []
  }
 ],
 "metadata": {
  "kernelspec": {
   "display_name": "Python 3",
   "language": "python",
   "name": "python3"
  },
  "language_info": {
   "codemirror_mode": {
    "name": "ipython",
    "version": 3
   },
   "file_extension": ".py",
   "mimetype": "text/x-python",
   "name": "python",
   "nbconvert_exporter": "python",
   "pygments_lexer": "ipython3",
   "version": "3.6.3"
  }
 },
 "nbformat": 4,
 "nbformat_minor": 2
}
