{
 "cells": [
  {
   "cell_type": "code",
   "execution_count": 1,
   "metadata": {
    "collapsed": true
   },
   "outputs": [],
   "source": [
    "import tensorflow as tf\n",
    "from tensorflow import keras\n",
    "import numpy as np"
   ]
  },
  {
   "cell_type": "code",
   "execution_count": 2,
   "metadata": {
    "collapsed": true
   },
   "outputs": [],
   "source": [
    "fashion_mnist = keras.datasets.mnist\n",
    "\n",
    "(train_images, train_labels), (test_images, test_labels) = fashion_mnist.load_data()\n",
    "train_shape = train_images.shape\n",
    "test_shape = test_images.shape\n",
    "\n",
    "y_shape = len(set(train_labels))\n",
    "\n",
    "train_images_reshaped = train_images.reshape(train_shape[0],train_shape[1]*train_shape[2])/255.0\n",
    "test_images_reshaped = test_images.reshape(test_shape[0],train_images_reshaped.shape[1])/255.0"
   ]
  },
  {
   "cell_type": "code",
   "execution_count": 3,
   "metadata": {
    "collapsed": true
   },
   "outputs": [],
   "source": [
    "hidden_sizes = [1000,1000,500,200]"
   ]
  },
  {
   "cell_type": "code",
   "execution_count": 4,
   "metadata": {},
   "outputs": [
    {
     "name": "stdout",
     "output_type": "stream",
     "text": [
      "1 (784, 1000)\n",
      "2 (1000, 1000)\n",
      "3 (1000, 500)\n",
      "4 (500, 200)\n",
      "5 (200, 10)\n"
     ]
    }
   ],
   "source": [
    "tf.reset_default_graph()\n",
    "\n",
    "with tf.device(\"/GPU:0\"):\n",
    "    x_placeholder = tf.placeholder(tf.float32,shape = (None,train_shape[1]*train_shape[2]))\n",
    "    y_placeholder = tf.placeholder(tf.int64,shape=(None))\n",
    "    output_layer_weights =  tf.Variable( tf.truncated_normal([hidden_sizes[-1],y_shape]))\n",
    "\n",
    "\n",
    "    weights_matrices = []\n",
    "    layer_outputs = []\n",
    "    weights_magnitudes_matrices = []\n",
    "    top_indices_list = []\n",
    "\n",
    "    layer_outputs.append(x_placeholder)\n",
    "\n",
    "    for layer in range(len(hidden_sizes)):\n",
    "        if layer == 0:\n",
    "\n",
    "            prev_units = int(x_placeholder.shape[1]) \n",
    "        else:\n",
    "            prev_units = int(weights_matrices[layer-1].shape[1])\n",
    "\n",
    "        layer_units = hidden_sizes[layer]\n",
    "\n",
    "        print(layer+1, (prev_units,layer_units))\n",
    "        weights_matrix_l = tf.Variable( tf.truncated_normal ([prev_units,layer_units]))\n",
    "        layer_output =  tf.nn.relu( tf.matmul(layer_outputs[layer],weights_matrix_l))\n",
    "\n",
    "        weights_magnitudes = tf.abs(weights_matrix_l)\n",
    "        top_values, top_indices = tf.nn.top_k(tf.reshape(-weights_magnitudes, (-1,)), 5)\n",
    "        top_indices = tf.stack(((top_indices // weights_magnitudes.shape[1]), (top_indices % weights_magnitudes.shape[1])), -1)\n",
    "        \n",
    "        weights_matrices.append(weights_matrix_l)\n",
    "        layer_outputs.append(layer_output)\n",
    "        weights_magnitudes_matrices.append(weights_magnitudes)\n",
    "        top_indices_list.append(top_indices)\n",
    "\n",
    "    last_layer_output =    tf.matmul(  layer_output , output_layer_weights)\n",
    "\n",
    "    print(layer+2,  (hidden_sizes[-1],y_shape))\n",
    "\n",
    "    loss =  tf.reduce_mean(\n",
    "        tf.nn.sparse_softmax_cross_entropy_with_logits(labels = y_placeholder,logits = last_layer_output))\n",
    "    optimizer_step = tf.train.AdamOptimizer(0.01).minimize(loss)\n",
    "\n",
    "    last_layer_hard_output = tf.argmax(last_layer_output,axis=1)\n",
    "    accuracy = tf.reduce_mean( tf.cast( tf.equal(last_layer_hard_output,y_placeholder),tf.float32))\n",
    "\n",
    "\n",
    "    init = tf.global_variables_initializer()"
   ]
  },
  {
   "cell_type": "code",
   "execution_count": 5,
   "metadata": {
    "collapsed": true
   },
   "outputs": [],
   "source": [
    "EPOCHS = 100\n",
    "PRINT_EVERY = 10"
   ]
  },
  {
   "cell_type": "code",
   "execution_count": 6,
   "metadata": {},
   "outputs": [
    {
     "name": "stdout",
     "output_type": "stream",
     "text": [
      "Epoch :10 loss:100499.8515625  epoch acc:0.6105999946594238\n",
      "Epoch :20 loss:18595.79296875  epoch acc:0.8187333345413208\n",
      "Epoch :30 loss:10010.990234375  epoch acc:0.8848999738693237\n",
      "Epoch :40 loss:7122.7490234375  epoch acc:0.901283323764801\n",
      "Epoch :50 loss:4923.2392578125  epoch acc:0.9178500175476074\n",
      "Epoch :60 loss:3573.817626953125  epoch acc:0.927566647529602\n",
      "Epoch :70 loss:2728.211181640625  epoch acc:0.9352333545684814\n",
      "Epoch :80 loss:2100.83740234375  epoch acc:0.9449666738510132\n",
      "Epoch :90 loss:1627.613037109375  epoch acc:0.9542666673660278\n",
      "Epoch :100 loss:1261.8719482421875  epoch acc:0.9607833623886108\n"
     ]
    }
   ],
   "source": [
    "config = tf.ConfigProto(allow_soft_placement = True)\n",
    "sess = tf.InteractiveSession(config=config)\n",
    "\n",
    "sess.run(init)\n",
    "feed_dict = {x_placeholder:train_images_reshaped,y_placeholder:train_labels}\n",
    "\n",
    "for epoch in range(1,EPOCHS + 1):\n",
    "    _,epoch_loss,epoch_output,epoch_hard_output,epoch_acc  = sess.run([optimizer_step,loss,last_layer_output,last_layer_hard_output,accuracy],feed_dict)\n",
    "    \n",
    "    if epoch % PRINT_EVERY == 0:\n",
    "        print(\"Epoch :{} loss:{}  epoch acc:{}\".format(epoch,epoch_loss,epoch_acc))\n",
    "        \n",
    "\n",
    "trained_weights =  sess.run([layer  for layer in  weights_matrices],feed_dict=feed_dict)\n"
   ]
  },
  {
   "cell_type": "code",
   "execution_count": 7,
   "metadata": {},
   "outputs": [
    {
     "name": "stdout",
     "output_type": "stream",
     "text": [
      "Test acc 0.9327\n"
     ]
    }
   ],
   "source": [
    "test_feed_dict = {x_placeholder:test_images_reshaped,y_placeholder:test_labels}\n",
    "test_acc = sess.run(accuracy,feed_dict=test_feed_dict)\n",
    "\n",
    "print(\"Test acc\",test_acc)\n"
   ]
  },
  {
   "cell_type": "code",
   "execution_count": 9,
   "metadata": {},
   "outputs": [
    {
     "data": {
      "text/plain": [
       "array([[247, 901],\n",
       "       [736,  28],\n",
       "       [363, 637],\n",
       "       [ 52, 256],\n",
       "       [623, 556]], dtype=int32)"
      ]
     },
     "execution_count": 9,
     "metadata": {},
     "output_type": "execute_result"
    }
   ],
   "source": [
    "sess.run(top_indices_list[0],feed_dict=feed_dict)\n"
   ]
  },
  {
   "cell_type": "code",
   "execution_count": null,
   "metadata": {
    "collapsed": true
   },
   "outputs": [],
   "source": []
  }
 ],
 "metadata": {
  "kernelspec": {
   "display_name": "Python 3",
   "language": "python",
   "name": "python3"
  },
  "language_info": {
   "codemirror_mode": {
    "name": "ipython",
    "version": 3
   },
   "file_extension": ".py",
   "mimetype": "text/x-python",
   "name": "python",
   "nbconvert_exporter": "python",
   "pygments_lexer": "ipython3",
   "version": "3.6.3"
  }
 },
 "nbformat": 4,
 "nbformat_minor": 2
}
